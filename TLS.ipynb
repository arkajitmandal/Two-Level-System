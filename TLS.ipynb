{
 "cells": [
  {
   "cell_type": "code",
   "execution_count": 1,
   "metadata": {},
   "outputs": [
    {
     "data": {
      "text/plain": [
       "<Figure size 360x318.584 with 0 Axes>"
      ]
     },
     "execution_count": 1,
     "metadata": {},
     "output_type": "execute_result"
    },
    {
     "data": {
      "text/plain": [
       "<Figure size 360x318.584 with 0 Axes>"
      ]
     },
     "metadata": {},
     "output_type": "display_data"
    }
   ],
   "source": [
    "from qutip import *\n",
    "# import for interactive plot\n",
    "from ipywidgets import interact, interactive, fixed, interact_manual\n",
    "import ipywidgets as widgets\n",
    "\n",
    "# import for plot   \n",
    "import matplotlib.pyplot as plt\n",
    "\n",
    "import numpy as np\n",
    "import matplotlib.pyplot as plt\n",
    "plt.rcParams.update({'font.size': 16})\n",
    "\n",
    "width= 5\n",
    "aspect_ratio= 1.13\n",
    "fig_size = (width, width / aspect_ratio)\n",
    "plt.figure(figsize=fig_size, constrained_layout=True)"
   ]
  },
  {
   "cell_type": "code",
   "execution_count": 2,
   "metadata": {},
   "outputs": [],
   "source": [
    "\n",
    "eV = 1.0 / 27.2114\n",
    "cmn1 = 1.0/219474.63\n",
    "\n",
    "def Vnew(R, wb= 0.02, Eb = 0.4):\n",
    "    \n",
    "    wb = wb * cmn1\n",
    "    Eb = Eb * cmn1\n",
    "    a1 = wb*wb/2.0\n",
    "    a2 = a1*a1/(4*Eb)\n",
    "    V  = -a1*R**2 + a2*R**4\n",
    "\n",
    "    V0 = np.min(V)\n",
    "    return - V0 + V\n",
    "\n",
    "\n",
    "# Kinetic energy for electron \n",
    "def Te(re):\n",
    " N = float(len(re))\n",
    " mass = 1.0\n",
    " Tij = np.zeros((int(N),int(N)))\n",
    " Rmin = float(re[0])\n",
    " Rmax = float(re[-1])\n",
    " step = float((Rmax-Rmin)/N)\n",
    " K = np.pi/step\n",
    "\n",
    " for ri in range(int(N)):\n",
    "  for rj in range(int(N)):\n",
    "    if ri == rj:  \n",
    "     Tij[ri,ri] = (0.5/mass)*K**2.0/3.0*(1+(2.0/N**2)) \n",
    "    else:    \n",
    "     Tij[ri,rj] = (0.5/mass)*(2*K**2.0/(N**2.0))*((-1)**(rj-ri)/(np.sin(np.pi*(rj-ri)/N)**2)) \n",
    " return Tij\n",
    "\n",
    "def HO(R, R0,w):\n",
    "    return 0.5 * (R-R0)**2 * w**2\n",
    "\n",
    "\n",
    "\n",
    "wb  = 1000 \n",
    "Eb  = 2250\n",
    "nR  = 1024\n",
    "Rmax = 100\n",
    "R = np.linspace(-Rmax,Rmax, nR)\n",
    "V = Vnew(R,wb,Eb) \n",
    "\n",
    "Hij = Te(R) + np.diag(V)\n",
    "Ei, Um   = np.linalg.eigh(Hij)\n",
    "\n",
    "Ψ1 = Um[:,0]\n",
    "Ψ2 = Um[:,1]\n",
    "\n",
    "Φ1 = (Ψ1 + Ψ2)/np.sqrt(2)\n",
    "Φ2 = (Ψ1 - Ψ2)/np.sqrt(2)\n",
    "\n"
   ]
  },
  {
   "cell_type": "markdown",
   "metadata": {},
   "source": [
    "# Environment\n",
    "### $\\gamma$ determines how strongly the environment is coupled to the system \n"
   ]
  },
  {
   "cell_type": "code",
   "execution_count": 21,
   "metadata": {},
   "outputs": [
    {
     "data": {
      "application/vnd.jupyter.widget-view+json": {
       "model_id": "789095837f5f4865a52ebcb45a6719c7",
       "version_major": 2,
       "version_minor": 0
      },
      "text/plain": [
       "interactive(children=(FloatSlider(value=1.0, description='Δ', max=10.0), FloatSlider(value=0.0, description='γ…"
      ]
     },
     "metadata": {},
     "output_type": "display_data"
    }
   ],
   "source": [
    "\n",
    "# t is a playable slider\n",
    "# a lindblad code using qutip\n",
    "@interact(Δ = (0, 10, 0.1), γ = (0, 1, 0.1), t = (0, 10, 0.01) )\n",
    "def TLS(Δ = 1, γ = 0.0, t = 0):\n",
    "    # Δ = 1\n",
    "    ΔE = 0.0\n",
    "    # γ = 0.1\n",
    "    β  = 0.0\n",
    "    H = sigmax() * Δ + sigmaz() * ΔE / 2 \n",
    "    \n",
    "    # set figure size\n",
    "    width= 8\n",
    "    aspect_ratio= 2.6\n",
    "    fig_size = (width, width / aspect_ratio)\n",
    "    plt.figure(figsize=fig_size)\n",
    "    \n",
    "    γ1 = γ\n",
    "    γ2 = γ1 * np.exp(- β * ΔE)\n",
    "    c_ops = [np.sqrt(γ2) * sigmam(),np.sqrt(γ1) * sigmam().dag()]\n",
    "    \n",
    "    tlist = np.linspace(0, 10, 1000)\n",
    "    dt = tlist[1] - tlist[0]\n",
    "    psi0 = basis(2, 0)\n",
    "    # define a density matrix\n",
    "    rho11 = basis(2, 0) * basis(2, 0).dag() \n",
    "    rho22 = basis(2, 1) * basis(2, 1).dag()\n",
    "    rho12 = basis(2, 0) * basis(2, 1).dag() \n",
    "    rho21 = basis(2, 1) * basis(2, 0).dag() \n",
    "    result = mesolve(H, psi0, tlist, c_ops, [rho11,rho22, rho12, rho21])\n",
    "    \n",
    "    # plot a figure on the left\n",
    "    plt.subplot(121)\n",
    "    plt.plot(tlist, result.expect[0], label = '$\\\\rho_{11}$', color = '#ef5777')\n",
    "    plt.plot(tlist, result.expect[1], label = '$\\\\rho_{22}$', color = '#48dbfb')\n",
    "    plt.scatter(t, result.expect[0][int(t/dt)], color = 'red')\n",
    "    plt.scatter(t, result.expect[1][int(t/dt)], color = 'blue')\n",
    "    # legend left middle\n",
    "    plt.legend(loc = 'center left')\n",
    "    \n",
    "    plt.xlim(0, 10)\n",
    "    plt.ylim(-0.05, 1.05)\n",
    "    plt.xlabel(\"Time\")\n",
    "    # plot a figure on the right\n",
    "    plt.subplot(122)\n",
    "    \n",
    "    color = ['#ef5777', '#48dbfb', '#8854d0', '#079992', '#e58e26',\"#ff9ff3\"]\n",
    "    plt.plot(R,  V/cmn1, c =  \"#000000\", lw = 3)\n",
    "    plt.plot(R, Φ1*0 + Ei[0]/cmn1, c =  \"#000000\")\n",
    "    \n",
    "    pij = np.zeros((2,2), dtype = np.complex128)\n",
    "    pij[0,0] = result.expect[0][int(t/dt)]\n",
    "    pij[1,1] = result.expect[1][int(t/dt)]\n",
    "    pij[0,1] = result.expect[2][int(t/dt)]\n",
    "    pij[1,0] = result.expect[3][int(t/dt)]\n",
    "    \n",
    "    # density along x\n",
    "    Px =  pij[0,0] * Φ1**2 + pij[1,1] * Φ2**2  +   pij[0,1] * Φ1 * Φ2 + pij[1,0] * Φ2 * Φ1\n",
    "    \n",
    "    plt.plot(R, Px.real * 1E5 + Ei[0]/cmn1, c =  color[0], ls = '-')\n",
    "    plt.fill_between(R,Ei[0]/cmn1,  Px.real * 1E5 + Ei[0]/cmn1, facecolor=color[0], alpha = 0.3)\n",
    "    \n",
    "    plt.title(\"t = %.2f\" %t)\n",
    "    plt.ylabel(\"$|\\Psi(x)|^2$\")\n",
    "    plt.xlabel(\"x\")\n",
    "    plt.ylim(0,3000)\n",
    "    # put space between two figures\n",
    "    plt.subplots_adjust(wspace=0.5)\n",
    "    "
   ]
  },
  {
   "cell_type": "markdown",
   "metadata": {},
   "source": [
    "## Play with energy gap ($\\Delta E$), Temperature ($\\beta$)\n"
   ]
  },
  {
   "cell_type": "code",
   "execution_count": 22,
   "metadata": {},
   "outputs": [
    {
     "data": {
      "application/vnd.jupyter.widget-view+json": {
       "model_id": "b2e8e6879e16478eaf5f6e1b95ca4b6b",
       "version_major": 2,
       "version_minor": 0
      },
      "text/plain": [
       "interactive(children=(FloatSlider(value=1.0, description='Δ', max=10.0), FloatSlider(value=0.0, description='Δ…"
      ]
     },
     "metadata": {},
     "output_type": "display_data"
    }
   ],
   "source": [
    "\n",
    "# t is a playable slider\n",
    "# a lindblad code using qutip\n",
    "@interact(Δ = (0, 10, 0.1), ΔE = (0,5,0.1), γ = (0, 1, 0.1), β  = (0, 5, 0.1))\n",
    "def TLS(Δ = 1, ΔE = 0, γ = 0.0, β = 5):\n",
    "    # Δ = 1\n",
    "    # dE = 0.0\n",
    "    # γ = 0.1\n",
    "    H = sigmax() * Δ + sigmaz() * ΔE / 2 \n",
    "    \n",
    "    # set figure size\n",
    "    width= 8\n",
    "    aspect_ratio= 2.6\n",
    "    fig_size = (width, width / aspect_ratio)\n",
    "    plt.figure(figsize=fig_size)\n",
    "    \n",
    "    γ1 = γ\n",
    "    γ2 = γ1 * np.exp(- β * ΔE)\n",
    "    c_ops = [np.sqrt(γ2) * sigmam(),np.sqrt(γ1) * sigmam().dag()]\n",
    "    \n",
    "    tlist = np.linspace(0, 10, 1000)\n",
    "    dt = tlist[1] - tlist[0]\n",
    "    psi0 = basis(2, 0)\n",
    "    # define a density matrix\n",
    "    rho11 = basis(2, 0) * basis(2, 0).dag() \n",
    "    rho22 = basis(2, 1) * basis(2, 1).dag()\n",
    "    rho12 = basis(2, 0) * basis(2, 1).dag() \n",
    "    rho21 = basis(2, 1) * basis(2, 0).dag() \n",
    "    result = mesolve(H, psi0, tlist, c_ops, [rho11,rho22, rho12, rho21])\n",
    "    \n",
    "    # plot a figure on the left\n",
    "\n",
    "    plt.plot(tlist, result.expect[0], label = '$\\\\rho_{11}$', color = '#ef5777')\n",
    "    plt.plot(tlist, result.expect[1], label = '$\\\\rho_{22}$', color = '#48dbfb')\n",
    "    # legend outside the plot (above)\n",
    "    \n",
    "    plt.xlim(0, 10)\n",
    "    plt.ylim(-0.05, 1.05)\n",
    "    plt.legend(loc = 'center left')\n",
    "    plt.xlabel(\"Time\")"
   ]
  }
 ],
 "metadata": {
  "kernelspec": {
   "display_name": "base",
   "language": "python",
   "name": "python3"
  },
  "language_info": {
   "codemirror_mode": {
    "name": "ipython",
    "version": 3
   },
   "file_extension": ".py",
   "mimetype": "text/x-python",
   "name": "python",
   "nbconvert_exporter": "python",
   "pygments_lexer": "ipython3",
   "version": "3.8.8"
  }
 },
 "nbformat": 4,
 "nbformat_minor": 2
}
